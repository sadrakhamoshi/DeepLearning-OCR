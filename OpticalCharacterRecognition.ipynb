{
  "nbformat": 4,
  "nbformat_minor": 0,
  "metadata": {
    "colab": {
      "provenance": [],
      "collapsed_sections": [
        "gl9v5VpHRtmm",
        "a8PKOk_JhdHo"
      ],
      "toc_visible": true,
      "include_colab_link": true
    },
    "kernelspec": {
      "name": "python3",
      "display_name": "Python 3"
    },
    "language_info": {
      "name": "python"
    }
  },
  "cells": [
    {
      "cell_type": "markdown",
      "metadata": {
        "id": "view-in-github",
        "colab_type": "text"
      },
      "source": [
        "<a href=\"https://colab.research.google.com/github/sadrakhamoshi/DeepLearning-OCR/blob/main/OpticalCharacterRecognition.ipynb\" target=\"_parent\"><img src=\"https://colab.research.google.com/assets/colab-badge.svg\" alt=\"Open In Colab\"/></a>"
      ]
    },
    {
      "cell_type": "markdown",
      "source": [
        "# Imports\n"
      ],
      "metadata": {
        "id": "gl9v5VpHRtmm"
      }
    },
    {
      "cell_type": "code",
      "execution_count": null,
      "metadata": {
        "id": "da87K_c3O0jj"
      },
      "outputs": [],
      "source": [
        "from skimage import io\n",
        "import numpy as np\n",
        "import random\n",
        "import cv2\n",
        "import csv\n",
        "import os\n",
        "\n",
        "import keras\n",
        "\n",
        "from google.colab import drive\n",
        "from PIL import Image, ImageDraw, ImageFont\n",
        "from tqdm import tqdm"
      ]
    },
    {
      "cell_type": "markdown",
      "source": [
        "# Data Collection"
      ],
      "metadata": {
        "id": "sypLBWlJ5tMW"
      }
    },
    {
      "cell_type": "code",
      "source": [
        "# Mount Google Drive\n",
        "\n",
        "drive.mount(\"/content/drive\")"
      ],
      "metadata": {
        "id": "ApvrBt2MaynW",
        "colab": {
          "base_uri": "https://localhost:8080/"
        },
        "outputId": "fa759339-9540-43dc-c473-ef154510368d"
      },
      "execution_count": null,
      "outputs": [
        {
          "output_type": "stream",
          "name": "stdout",
          "text": [
            "Mounted at /content/drive\n"
          ]
        }
      ]
    },
    {
      "cell_type": "markdown",
      "source": [
        "## Generate Numbers"
      ],
      "metadata": {
        "id": "a8PKOk_JhdHo"
      }
    },
    {
      "cell_type": "code",
      "source": [
        "credit_card_n = 10000\n",
        "new_national_n = 10000\n",
        "old_national_n = 10000\n",
        "base_dir = '/content/drive/MyDrive/Deep/OpticalCharacterRecognition/'"
      ],
      "metadata": {
        "id": "XHg6dYiqdu6L"
      },
      "execution_count": null,
      "outputs": []
    },
    {
      "cell_type": "code",
      "source": [
        "# Generate 16-Digits For Credit Card\n",
        "\n",
        "credit_card_prefixes = ['6274 12', '6273 81', '5057 85', '6221 06', '6391 94', '6278 84', '6393 47', '5022 29', '6362 14', '6273 53', '5029 08', '6276 48', '2071 77',\n",
        "                     '6369 49', '5029 38', '5894 63', '6219 86', '5892 10', '6396 07', '6393 46', '5028 06', '6037 69', '6279 61', '6063 73', '6395 99', '6274 88',\n",
        "                     '5029 10', '6037 70', '6392 17', '5054 16', '6367 95', '6280 23', '6104 33', '9919 75', '6037 99', '6393 70', '6277 60', '6281 57', '5058 01']\n",
        "\n",
        "def GenerateCreaditCardNumber():\n",
        "\n",
        "    numbers = []\n",
        "\n",
        "    i = 0\n",
        "    while i < credit_card_n:\n",
        "        # Select A Prefix\n",
        "        select_prefix = random.randint(0, 38)\n",
        "        new_item = credit_card_prefixes[select_prefix]\n",
        "\n",
        "        # Random Numbers\n",
        "        for j in range(10):\n",
        "            if j == 2 or j == 6:\n",
        "                new_item += ' '\n",
        "            new_item += str(random.randint(0, 9))\n",
        "\n",
        "        # Add \n",
        "        if new_item not in numbers: \n",
        "            numbers.append(new_item)\n",
        "            i += 1\n",
        "\n",
        "    return numbers\n",
        "\n",
        "credit_card_numbers = GenerateCreaditCardNumber()\n",
        "\n",
        "with open(base_dir + \"CreditCardDataset/labels.txt\", \"w\") as output:\n",
        "    output.write('\\n'.join(credit_card_numbers))\n",
        "\n",
        "print('len:', len(credit_card_numbers), '\\nhead:', credit_card_numbers[0:5])"
      ],
      "metadata": {
        "id": "WsL9a68agbQM",
        "colab": {
          "base_uri": "https://localhost:8080/"
        },
        "outputId": "3648b3cd-c2e2-4b8e-e01f-b365ce5bd001"
      },
      "execution_count": null,
      "outputs": [
        {
          "output_type": "stream",
          "name": "stdout",
          "text": [
            "len: 10000 \n",
            "head: ['6393 4712 6666 8736', '6273 8154 8173 4408', '6104 3362 5938 6588', '5029 3816 5906 7789', '6392 1738 1274 8771']\n"
          ]
        }
      ]
    },
    {
      "cell_type": "code",
      "source": [
        "# Generate 10-Digits For National Card\n",
        "\n",
        "DIGITS_COUNT_NATIONAL_ID = 10\n",
        "\n",
        "persian_numbers = ['۰', '۱', '۲', '۳', '۴', '۵', '۶', '۷', '۸', '۹']\n",
        "national_id_prefixes = []\n",
        "\n",
        "\n",
        "def GenerateNewNationalID():\n",
        "    # New Cards\n",
        "    numbers = []\n",
        "    i = 0\n",
        "    while i < new_national_n:\n",
        "\n",
        "        # Control Sum\n",
        "        control_digit_sum = 0\n",
        "\n",
        "        # Select A Prefix\n",
        "\n",
        "        # Random Numbers\n",
        "        new_item = ''\n",
        "        for j in range(9):\n",
        "            random_number = random.randint(0, 9)\n",
        "            new_item += persian_numbers[random_number]\n",
        "            control_digit_sum += random_number * (DIGITS_COUNT_NATIONAL_ID - j)\n",
        "\n",
        "        # Control Number\n",
        "        control_remainder = control_digit_sum % 11\n",
        "        if control_remainder < 2:\n",
        "            new_item += persian_numbers[control_remainder]\n",
        "        else:\n",
        "            new_item += persian_numbers[11 - control_remainder]\n",
        "\n",
        "        # Add \n",
        "        if new_item not in numbers: \n",
        "            numbers.append(new_item)\n",
        "            i += 1\n",
        "        \n",
        "    return numbers\n",
        "\n",
        "def GenerateOldNationalID():\n",
        "    # Old Cards\n",
        "    numbers = []\n",
        "    i = 0\n",
        "    while i < old_national_n:\n",
        "\n",
        "        # Control Sum\n",
        "        control_digit_sum = 0\n",
        "\n",
        "        # Select A Prefix\n",
        "\n",
        "        # Random Numbers\n",
        "        new_item = ''\n",
        "        for j in range(9):\n",
        "            if j == 3:\n",
        "                new_item += '-'\n",
        "            random_number = random.randint(0, 9)\n",
        "            new_item += persian_numbers[random_number]\n",
        "            control_digit_sum += random_number * (DIGITS_COUNT_NATIONAL_ID - j)\n",
        "\n",
        "        # Control Number\n",
        "        new_item += '-'\n",
        "\n",
        "        control_remainder = control_digit_sum % 11\n",
        "        if control_remainder < 2:\n",
        "            new_item += persian_numbers[control_remainder]\n",
        "        else:\n",
        "            new_item += persian_numbers[11 - control_remainder]\n",
        "\n",
        "        # Add \n",
        "        if new_item not in numbers: \n",
        "            numbers.append(new_item)\n",
        "            i += 1\n",
        "        \n",
        "    return numbers\n",
        "\n",
        "new_national_numbers = GenerateNewNationalID()\n",
        "old_national_numbers = GenerateOldNationalID()\n",
        "\n",
        "with open(base_dir + \"NewNationalCardDataset/labels.txt\", \"w\") as output:\n",
        "    output.write('\\n'.join(new_national_numbers))\n",
        "\n",
        "with open(base_dir + \"OldNationalCardDataset/labels.txt\", \"w\") as output:\n",
        "    output.write('\\n'.join(old_national_numbers))\n",
        "\n",
        "print('new len:', len(new_national_numbers), '\\nhead:', new_national_numbers[0:5], '\\n')\n",
        "print('old len:', len(old_national_numbers), '\\nhead:', old_national_numbers[0:5])"
      ],
      "metadata": {
        "id": "dvdgJqnLjHe4",
        "colab": {
          "base_uri": "https://localhost:8080/"
        },
        "outputId": "cc0d01bb-b5ef-4b7c-c77b-3f8200855e3d"
      },
      "execution_count": null,
      "outputs": [
        {
          "output_type": "stream",
          "name": "stdout",
          "text": [
            "new len: 10000 \n",
            "head: ['۱۹۷۰۲۶۳۰۲۴', '۲۲۷۸۱۲۴۰۹۹', '۳۶۵۴۶۳۸۵۵۴', '۷۵۳۷۹۸۹۹۰۷', '۱۲۵۱۹۴۶۸۲۸'] \n",
            "\n",
            "old len: 10000 \n",
            "head: ['۹۸۳-۴۸۷۸۰۷-۹', '۸۵۰-۱۵۳۰۳۶-۰', '۹۱۰-۴۳۴۷۲۵-۰', '۶۸۲-۸۳۳۷۹۴-۸', '۸۱۹-۸۲۰۱۷۵-۰']\n"
          ]
        }
      ]
    },
    {
      "cell_type": "markdown",
      "source": [
        "## Generate Images"
      ],
      "metadata": {
        "id": "xmtShN8shjCC"
      }
    },
    {
      "cell_type": "code",
      "source": [
        "new_national_img = Image.open(base_dir + 'NationalCardBackgrounds/NationalCardNew.jpg')\n",
        "old_national_img = Image.open(base_dir + 'NationalCardBackgrounds/NationalCardOld.jpg')"
      ],
      "metadata": {
        "id": "5CIluijN_pdv"
      },
      "execution_count": null,
      "outputs": []
    },
    {
      "cell_type": "code",
      "source": [
        "font_size = 50\n",
        "font = ImageFont.truetype(base_dir + 'Fonts/BYekan+ Bold.ttf', font_size)\n",
        "\n",
        "def GenerateNewNationalDataset():\n",
        "\n",
        "    for i in tqdm(range(len(new_national_numbers))):\n",
        "        number = new_national_numbers[i]\n",
        "        img = new_national_img.copy()\n",
        "\n",
        "        drawn = ImageDraw.Draw(img)\n",
        "\n",
        "        width_pos, height_pos = (250, 520)\n",
        "        width, height = (1181, 750)\n",
        "        text_width, text_height = drawn.textsize(number, font=font)\n",
        "\n",
        "        drawn.text((width - text_width - width_pos, \n",
        "                    height - text_height - height_pos), number, font=font, fill=(0, 0, 0))\n",
        "\n",
        "        img = img.crop((width - text_width - width_pos - 150, \n",
        "                        height - text_height - height_pos - 50, \n",
        "                        width - width_pos + 150, \n",
        "                        height - height_pos + 50))\n",
        "\n",
        "        angle = random.randint(-3, 3)\n",
        "        img = img.rotate(angle)\n",
        "\n",
        "        img = img.crop((150 + random.randint(-40, -10), \n",
        "                        50 + random.randint(-10, 0), \n",
        "                        text_width + 150 + random.randint(10, 40), \n",
        "                        text_height + 50 + random.randint(10, 20)))\n",
        "        \n",
        "        img.save(base_dir + 'NewNationalCardDataset/' + number + \".jpg\", \"JPEG\")\n",
        "\n",
        "GenerateNewNationalDataset()"
      ],
      "metadata": {
        "colab": {
          "base_uri": "https://localhost:8080/"
        },
        "id": "Lhfd-qIioDes",
        "outputId": "33d07916-87e1-49e4-862c-349cbc715c9b"
      },
      "execution_count": null,
      "outputs": [
        {
          "output_type": "stream",
          "name": "stderr",
          "text": [
            "100%|██████████| 10000/10000 [02:13<00:00, 74.73it/s]\n"
          ]
        }
      ]
    },
    {
      "cell_type": "code",
      "source": [
        "font_size = 37\n",
        "font = ImageFont.truetype(base_dir + 'Fonts/YasBd.ttf', font_size)\n",
        "\n",
        "def GenerateOldNationalDataset():\n",
        "\n",
        "    for i in tqdm(range(len(old_national_numbers))):\n",
        "        number = old_national_numbers[i]\n",
        "        img = old_national_img.copy()\n",
        "\n",
        "        drawn = ImageDraw.Draw(img)\n",
        "\n",
        "        width_pos, height_pos = (170, 380)\n",
        "        width, height = (800, 497)\n",
        "        text_width, text_height = drawn.textsize(number, font=font)\n",
        "\n",
        "        drawn.text((width - text_width - width_pos, \n",
        "                    height - text_height - height_pos), number, font=font, fill=(0, 0, 0))\n",
        "\n",
        "        img = img.crop((width - text_width - width_pos - 140, \n",
        "                        height - text_height - height_pos - 50, \n",
        "                        width - width_pos + 140, \n",
        "                        height - height_pos + 50))\n",
        "\n",
        "        angle = random.randint(-3, 3)\n",
        "        img = img.rotate(angle)\n",
        "\n",
        "        img = img.crop((140 + random.randint(-30, -10), \n",
        "                        50 + random.randint(-10, 0), \n",
        "                        text_width + 140 + random.randint(10, 30), \n",
        "                        text_height + 50 + random.randint(10, 20)))\n",
        "\n",
        "        img.save(base_dir + 'OldNationalCardDataset/' + number + \".jpg\", \"JPEG\")\n",
        "\n",
        "GenerateOldNationalDataset()"
      ],
      "metadata": {
        "colab": {
          "base_uri": "https://localhost:8080/"
        },
        "id": "sdFlhfmr9iGb",
        "outputId": "5794923e-0c0a-413d-9e53-3ff1670c98b5"
      },
      "execution_count": null,
      "outputs": [
        {
          "output_type": "stream",
          "name": "stderr",
          "text": [
            "100%|██████████| 10000/10000 [01:41<00:00, 98.15it/s]\n"
          ]
        }
      ]
    },
    {
      "cell_type": "code",
      "source": [
        "# Credit Cards\n",
        "\n",
        "fonts_path = base_dir + '/Fonts/'\n",
        "fonts = os.listdir(base_dir + '/Fonts/')\n",
        "\n",
        "credit_card_path = base_dir + '/CreditCardBackgrounds/ResizedBackground/'\n",
        "credit_card_background = os.listdir(base_dir + '/CreditCardBackgrounds/ResizedBackground/')\n",
        "\n",
        "font_size = 29\n",
        "\n",
        "# Gets A Random Path\n",
        "def RandomSelect(path, folder):\n",
        "  return path + random.choice(folder)\n",
        "\n",
        "def GenerateCreditCardDataset():\n",
        "    cc = 0\n",
        "\n",
        "    for i in tqdm(range(len(credit_card_numbers))):\n",
        "        # Select Random Font\n",
        "        font_type = RandomSelect(fonts_path, fonts)\n",
        "        font = ImageFont.truetype(font_type, font_size + random.randint(-1, 1))\n",
        "        font_color = (0, 0, 0)\n",
        "\n",
        "        number = credit_card_numbers[i]\n",
        "\n",
        "        credit_card_random_background = Image.open(RandomSelect(credit_card_path, credit_card_background))\n",
        "        img = credit_card_random_background.copy()\n",
        "\n",
        "        # Check The Color\n",
        "        average = np.asarray(img).mean(axis=0).mean(axis=0)\n",
        "        if average[0] * 0.299 + average[1] * 0.587 + average[2] * 0.114 < 130:\n",
        "            font_color = (255, 255, 255)\n",
        "            \n",
        "        # Put The Text On Image\n",
        "        width, height = (600, 200)\n",
        "\n",
        "        drawn = ImageDraw.Draw(img)\n",
        "        text_width, text_height = drawn.textsize(number, font=font)\n",
        "\n",
        "        drawn.text(((width - text_width) / 2, (height - text_height) / 2), number, font=font, fill=font_color)\n",
        "\n",
        "\n",
        "        angle = random.randint(-3, 3)\n",
        "        img = img.rotate(angle)\n",
        "\n",
        "        img = img.crop(((width - text_width) / 2 + random.randint(-40, -10), \n",
        "                        (height - text_height) / 2 + random.randint(-30, -15), \n",
        "                        (width + text_width) / 2 + random.randint(10, 40), \n",
        "                        (height + text_height) / 2 + random.randint(15, 30)))\n",
        "\n",
        "        img.save(base_dir + 'CreditCardDataset/' + number + \".jpg\", \"JPEG\")\n",
        "\n",
        "GenerateCreditCardDataset()"
      ],
      "metadata": {
        "id": "pX0xBtjDwdVL",
        "colab": {
          "base_uri": "https://localhost:8080/"
        },
        "outputId": "582b11ac-4d43-431c-8968-5438901f360b"
      },
      "execution_count": null,
      "outputs": [
        {
          "output_type": "stream",
          "name": "stderr",
          "text": [
            "100%|██████████| 10000/10000 [03:37<00:00, 46.01it/s]\n"
          ]
        }
      ]
    },
    {
      "cell_type": "markdown",
      "source": [
        "#Network"
      ],
      "metadata": {
        "id": "3Q7-NbVKR09d"
      }
    },
    {
      "cell_type": "code",
      "source": [
        "# Data Augmentation"
      ],
      "metadata": {
        "id": "rQ0eBtCQR7La"
      },
      "execution_count": null,
      "outputs": []
    },
    {
      "cell_type": "code",
      "source": [],
      "metadata": {
        "id": "sPP-OBg0-lmw"
      },
      "execution_count": null,
      "outputs": []
    }
  ]
}